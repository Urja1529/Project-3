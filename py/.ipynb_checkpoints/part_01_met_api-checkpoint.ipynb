{
 "cells": [
  {
   "cell_type": "code",
   "execution_count": 1,
   "id": "ff4c6e1f-32f9-4bf9-876d-aca0d8dc5e8a",
   "metadata": {
    "tags": []
   },
   "outputs": [],
   "source": [
    "import pandas as pd\n",
    "import re\n",
    "\n",
    "import requests\n",
    "import json\n",
    "from pprint import pprint\n",
    "import time"
   ]
  },
  {
   "cell_type": "code",
   "execution_count": 46,
   "id": "7117411f-6222-4e22-b0c5-95dc5fdcc584",
   "metadata": {
    "tags": []
   },
   "outputs": [],
   "source": [
    "# require object id for cat and dog, unable to avoid overlap with other words\n",
    "\n",
    "cat_url = \"https://collectionapi.metmuseum.org/public/collection/v1/search?q=cat\"\n",
    "cat_id = requests.get(cat_url).json()\n",
    "\n",
    "dog_url = \"https://collectionapi.metmuseum.org/public/collection/v1/search?q=dog\"\n",
    "dog_id = requests.get(dog_url).json()"
   ]
  },
  {
   "cell_type": "code",
   "execution_count": 47,
   "id": "624e7241-ab43-4176-9f5a-18f4a009cca2",
   "metadata": {
    "tags": []
   },
   "outputs": [
    {
     "name": "stdout",
     "output_type": "stream",
     "text": [
      "cat objects 45903\n",
      "dog objects 5463\n",
      "total objects 51366\n"
     ]
    }
   ],
   "source": [
    "# combine object id list\n",
    "id_list = cat_id['objectIDs'] + dog_id['objectIDs']\n",
    "\n",
    "cat_n = len(cat_id['objectIDs'])\n",
    "dog_n = len(dog_id['objectIDs'])\n",
    "\n",
    "print(f'cat objects {cat_n}')\n",
    "print(f'dog objects {dog_n}')\n",
    "print(f'total objects {len(id_list)}')"
   ]
  },
  {
   "cell_type": "code",
   "execution_count": 23,
   "id": "63d1f67f-39e6-4174-bada-5fc46f6718ab",
   "metadata": {
    "tags": []
   },
   "outputs": [
    {
     "name": "stdout",
     "output_type": "stream",
     "text": [
      "47000 / 51366\n",
      "48000 / 51366\n",
      "49000 / 51366\n",
      "50000 / 51366\n",
      "51000 / 51366\n",
      "----------complete-----\n"
     ]
    }
   ],
   "source": [
    "# require each object's data, due to api shut down in middle, there are multiple file for api request\n",
    "object_json = {}\n",
    "id_n = len(id_list)\n",
    "\n",
    "for i in range(i,id_n):\n",
    "    temp_url = f'https://collectionapi.metmuseum.org/public/collection/v1/objects/{id_list[i]}'\n",
    "    temp_response = requests.get(temp_url).json()\n",
    "    object_json[f'id_{id_list[i]}'] = temp_response\n",
    "    \n",
    "    time.sleep(0.01) # less than 70 calls/second\n",
    "    \n",
    "    if (i+1) % 1000 == 0 :\n",
    "        print( f'{i+1} / {id_n}' )\n",
    "        \n",
    "print(\"----------complete-----\")"
   ]
  },
  {
   "cell_type": "code",
   "execution_count": 25,
   "id": "07b28f63-eb78-4b16-9f00-504c26a424f5",
   "metadata": {
    "tags": []
   },
   "outputs": [],
   "source": [
    "# save json file. due to api shut down for several times, we have multiple files\n",
    "with open(\"../data/original_data/original_api_output_4.json\", \"w\") as outfile:\n",
    "    json.dump(object_json, outfile)"
   ]
  },
  {
   "cell_type": "code",
   "execution_count": 4,
   "id": "8b81723f-c111-42a8-a490-63f93dbc42c4",
   "metadata": {},
   "outputs": [],
   "source": [
    "# help file to assinge geolocation\n",
    "map_df = pd.read_csv( \"../data/original_data/map_point.csv\" )\n",
    "\n",
    "# function to clean data\n",
    "def CleanData(object_json) :\n",
    "    clean_json = {}\n",
    "    for o_id in object_json :\n",
    "        try: # SKIP - \"not valid object\"\n",
    "\n",
    "            temp_object = {}\n",
    "            object_one = object_json[o_id]\n",
    "            # object_one['testline'] = \"cat's\"\n",
    "\n",
    "            # test if the object fit word 'cat|cats' or 'dog|dogs' , there are lots overlapping in search, ie. category\n",
    "            test_cat = bool(re.search( '[^a-z](cat|cats)[^a-z]' , str(object_one) , re.IGNORECASE )) # team cat\n",
    "            test_dog = bool(re.search( '[^a-z](dog|dogs)[^a-z]' , str(object_one) , re.IGNORECASE )) # team dog\n",
    "\n",
    "            if any( [test_cat , test_dog] ) : # SKIP - objects with overlapping words\n",
    "\n",
    "                # team\n",
    "                if all( [test_cat , test_dog] ):\n",
    "                    temp_object['team'] = 'both' # team both\n",
    "                elif test_cat :\n",
    "                    temp_object['team'] = 'cat'\n",
    "                elif test_dog :\n",
    "                    temp_object['team'] = 'dog'\n",
    "                else :\n",
    "                    temp_object['team'] = 'NA' # based on loop design, should not have team NA\n",
    "\n",
    "                # basic object info\n",
    "                temp_object['objectID'] = object_one['objectID']\n",
    "                temp_object['displayGallery'] = object_one['GalleryNumber']\n",
    "                temp_object['objectName'] = object_one['objectName']\n",
    "                temp_object['objectURL'] = object_one['objectURL']\n",
    "                temp_object['objectImage'] = object_one['primaryImageSmall']\n",
    "                if len(temp_object['objectImage']) > 0 :\n",
    "                    temp_object['isImage'] = True\n",
    "                else:\n",
    "                    temp_object['isImage'] = False\n",
    "                temp_object['title'] = object_one['title']\n",
    "\n",
    "                temp_object['artist'] = object_one['artistDisplayName']\n",
    "                temp_object['department'] = object_one['department']\n",
    "                temp_object['isHighlight'] = object_one['isHighlight']\n",
    "                temp_object['classification'] = object_one['classification']\n",
    "                temp_object['medium'] = object_one['medium']\n",
    "                temp_object['culture'] = object_one['culture']\n",
    "                temp_object['period'] = object_one['period']\n",
    "                temp_object['region'] = object_one['region']\n",
    "\n",
    "                # Object Year and dateing \n",
    "                temp_year = int(object_one['objectBeginDate'])\n",
    "                temp_object['year'] = temp_year\n",
    "                \n",
    "                # YearDecade\n",
    "                temp_object['yearDecade'] = f'{(temp_year // 10)*10}s'\n",
    "\n",
    "                # YearCentury. BC, AD\n",
    "                temp_century = (temp_year - 1) // 100 + 1\n",
    "                try:\n",
    "                    if temp_century < 0 :\n",
    "                        temp_object['yearCentury'] = f'{ abs(temp_century) } BC'\n",
    "                    else :\n",
    "                        temp_object['yearCentury'] = f'{ temp_century } AD'\n",
    "                    temp_object['yearCenturyInt'] = temp_century*100\n",
    "                except:\n",
    "                    temp_object['yearCentury'] = 'NA'\n",
    "                \n",
    "                # YearMultipleCentury\n",
    "                temp_mcentry = temp_century // 5\n",
    "                try:\n",
    "                    if temp_mcentry < 0 :\n",
    "                        temp_object['yearCenturyMultiple'] = \"B.C.\"\n",
    "                    elif temp_mcentry == 1 :\n",
    "                        temp_object['yearCenturyMultiple'] = \"1st to 5th Century\"\n",
    "                    elif temp_mcentry == 2 :\n",
    "                        temp_object['yearCenturyMultiple'] = \"6th to 10th Century\"\n",
    "                    elif temp_mcentry == 3 :\n",
    "                        temp_object['yearCenturyMultiple'] = \"11th to 15th Century\"\n",
    "                    elif temp_mcentry == 4 :\n",
    "                        temp_object['yearCenturyMultiple'] = \"16th to 20th Century\"\n",
    "                    elif temp_mcentry == 5 :\n",
    "                        temp_object['yearCenturyMultiple'] = \"21th Century\"\n",
    "                except:\n",
    "                    temp_object['yearCenturyMultiple'] = 'NA'                        \n",
    "\n",
    "                # Object Country, use object country if not blank, otherwise use artistNationality or culture\n",
    "                try:\n",
    "                    if len( object_one['country'] ) > 0:\n",
    "                        temp_country = re.findall( '[\\w\\s\\.]+' , object_one['country'] )[0].strip()\n",
    "                    elif len( object_one['artistNationality'] ) > 0:\n",
    "                        temp_country = re.findall( '[\\w\\s\\.]+' , object_one['artistNationality'] )[0].strip()\n",
    "                    else:\n",
    "                        temp_country = re.findall( '[\\w\\s\\.]+' , object_one['culture'] )[0].strip()\n",
    "                except:\n",
    "                    temp_country = 'NA'\n",
    "\n",
    "                temp_object['country'] = temp_country\n",
    "                \n",
    "                # TBC - countryGeo, convert country to formal country with Geocode. Geocode file is prepared based on met_data's country list.\n",
    "                try:\n",
    "                    temp_object['geoCode'] = map_df.loc[ map_df['country'] == temp_country][\"geoCode\"].item()\n",
    "                except:\n",
    "                    temp_object['geoCode'] = \"NA\"\n",
    "                \n",
    "                # TBC - Continent\n",
    "                try:\n",
    "                    temp_object['continent'] = 'NA'\n",
    "                except:\n",
    "                    pass\n",
    "                \n",
    "                # Object Tags. combine multiple tags to one string\n",
    "                try:\n",
    "                    object_tags = object_one['tags']\n",
    "                    tmep_tags = []\n",
    "                    for one_tag in object_tags:\n",
    "                        tmep_tags.append(one_tag['term'])\n",
    "                    temp_object['tags'] = ', '.join(tmep_tags)\n",
    "                except:\n",
    "                    temp_object['tags'] = 'NA'\n",
    "\n",
    "                # add object pass test, with selected content to clean database\n",
    "                clean_json[o_id] = temp_object\n",
    "                # print( o_id, temp_object['team'] )\n",
    "        except:\n",
    "            pass\n",
    "                \n",
    "    return clean_json"
   ]
  },
  {
   "cell_type": "code",
   "execution_count": 2,
   "id": "c732248d-a4cd-43c3-b617-ad8882e8ea6c",
   "metadata": {
    "tags": []
   },
   "outputs": [
    {
     "name": "stdout",
     "output_type": "stream",
     "text": [
      "../data/original_data/original_api_output_1.json\n",
      "original count 28172\n"
     ]
    },
    {
     "ename": "NameError",
     "evalue": "name 'CleanData' is not defined",
     "output_type": "error",
     "traceback": [
      "\u001b[1;31m---------------------------------------------------------------------------\u001b[0m",
      "\u001b[1;31mNameError\u001b[0m                                 Traceback (most recent call last)",
      "Cell \u001b[1;32mIn[2], line 12\u001b[0m\n\u001b[0;32m      9\u001b[0m     \u001b[38;5;28mprint\u001b[39m(\u001b[38;5;124mf\u001b[39m\u001b[38;5;124m'\u001b[39m\u001b[38;5;124mclean count \u001b[39m\u001b[38;5;132;01m{\u001b[39;00m\u001b[38;5;28mlen\u001b[39m(clean_json)\u001b[38;5;132;01m}\u001b[39;00m\u001b[38;5;124m'\u001b[39m )\n\u001b[0;32m     10\u001b[0m     \u001b[38;5;28;01mreturn\u001b[39;00m clean_json\n\u001b[1;32m---> 12\u001b[0m clean_1 \u001b[38;5;241m=\u001b[39m \u001b[43mReadJson\u001b[49m\u001b[43m(\u001b[49m\u001b[43m \u001b[49m\u001b[38;5;124;43m'\u001b[39;49m\u001b[38;5;124;43m../data/original_data/original_api_output_1.json\u001b[39;49m\u001b[38;5;124;43m'\u001b[39;49m\u001b[43m \u001b[49m\u001b[43m)\u001b[49m\n\u001b[0;32m     13\u001b[0m clean_2 \u001b[38;5;241m=\u001b[39m ReadJson( \u001b[38;5;124m'\u001b[39m\u001b[38;5;124m../data/original_data/original_api_output_2.json\u001b[39m\u001b[38;5;124m'\u001b[39m )\n\u001b[0;32m     14\u001b[0m clean_3 \u001b[38;5;241m=\u001b[39m ReadJson( \u001b[38;5;124m'\u001b[39m\u001b[38;5;124m../data/original_data/original_api_output_3.json\u001b[39m\u001b[38;5;124m'\u001b[39m )\n",
      "Cell \u001b[1;32mIn[2], line 8\u001b[0m, in \u001b[0;36mReadJson\u001b[1;34m(path)\u001b[0m\n\u001b[0;32m      6\u001b[0m object_json \u001b[38;5;241m=\u001b[39m json\u001b[38;5;241m.\u001b[39mload( path )\n\u001b[0;32m      7\u001b[0m \u001b[38;5;28mprint\u001b[39m(\u001b[38;5;124mf\u001b[39m\u001b[38;5;124m'\u001b[39m\u001b[38;5;124moriginal count \u001b[39m\u001b[38;5;132;01m{\u001b[39;00m\u001b[38;5;28mlen\u001b[39m(object_json)\u001b[38;5;132;01m}\u001b[39;00m\u001b[38;5;124m'\u001b[39m)\n\u001b[1;32m----> 8\u001b[0m clean_json \u001b[38;5;241m=\u001b[39m \u001b[43mCleanData\u001b[49m(object_json) \u001b[38;5;66;03m# use function to clean and select data\u001b[39;00m\n\u001b[0;32m      9\u001b[0m \u001b[38;5;28mprint\u001b[39m(\u001b[38;5;124mf\u001b[39m\u001b[38;5;124m'\u001b[39m\u001b[38;5;124mclean count \u001b[39m\u001b[38;5;132;01m{\u001b[39;00m\u001b[38;5;28mlen\u001b[39m(clean_json)\u001b[38;5;132;01m}\u001b[39;00m\u001b[38;5;124m'\u001b[39m )\n\u001b[0;32m     10\u001b[0m \u001b[38;5;28;01mreturn\u001b[39;00m clean_json\n",
      "\u001b[1;31mNameError\u001b[0m: name 'CleanData' is not defined"
     ]
    }
   ],
   "source": [
    "# read all files and select object with proper key words\n",
    "\n",
    "def ReadJson( path ):\n",
    "    print( path )\n",
    "    path = open(path)\n",
    "    object_json = json.load( path )\n",
    "    print(f'original count {len(object_json)}')\n",
    "    clean_json = CleanData(object_json) # use function to clean and select data\n",
    "    print(f'clean count {len(clean_json)}' )\n",
    "    return clean_json\n",
    "\n",
    "clean_1 = ReadJson( '../data/original_data/original_api_output_1.json' )\n",
    "clean_2 = ReadJson( '../data/original_data/original_api_output_2.json' )\n",
    "clean_3 = ReadJson( '../data/original_data/original_api_output_3.json' )\n",
    "clean_4 = ReadJson( '../data/original_data/original_api_output_4.json' )"
   ]
  },
  {
   "cell_type": "code",
   "execution_count": 6,
   "id": "6c5ed9e8-6778-4812-b094-09ed17d177f3",
   "metadata": {
    "tags": []
   },
   "outputs": [
    {
     "name": "stdout",
     "output_type": "stream",
     "text": [
      "total clean count 4843\n"
     ]
    }
   ],
   "source": [
    "# combine clean data to json\n",
    "clean_json = {}\n",
    "\n",
    "for o_id in clean_1 :\n",
    "    clean_json[ o_id ] = clean_1[ o_id ]\n",
    "    \n",
    "for o_id in clean_2 :\n",
    "    clean_json[ o_id ] = clean_2[ o_id ]\n",
    "\n",
    "for o_id in clean_3 :\n",
    "    clean_json[ o_id ] = clean_3[ o_id ]\n",
    "\n",
    "for o_id in clean_4 :\n",
    "    clean_json[ o_id ] = clean_4[ o_id ]\n",
    "    \n",
    "print(f'total clean count {len(clean_json)}' )\n",
    "\n",
    "with open(\"../data/met_data.json\", \"w\") as outfile:\n",
    "    json.dump(clean_json, outfile)"
   ]
  },
  {
   "cell_type": "code",
   "execution_count": null,
   "id": "eccf2608-8c0e-402a-8239-e9d254d9c0b3",
   "metadata": {},
   "outputs": [],
   "source": []
  }
 ],
 "metadata": {
  "kernelspec": {
   "display_name": "Python 3 (ipykernel)",
   "language": "python",
   "name": "python3"
  },
  "language_info": {
   "codemirror_mode": {
    "name": "ipython",
    "version": 3
   },
   "file_extension": ".py",
   "mimetype": "text/x-python",
   "name": "python",
   "nbconvert_exporter": "python",
   "pygments_lexer": "ipython3",
   "version": "3.10.12"
  }
 },
 "nbformat": 4,
 "nbformat_minor": 5
}
